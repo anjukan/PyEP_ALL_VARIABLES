{
 "cells": [
  {
   "cell_type": "code",
   "execution_count": 12,
   "metadata": {},
   "outputs": [
    {
     "data": {
      "text/html": [
       "<style>.container { width:100% !important; }</style>"
      ],
      "text/plain": [
       "<IPython.core.display.HTML object>"
      ]
     },
     "metadata": {},
     "output_type": "display_data"
    }
   ],
   "source": [
    "# Make notebook full width\n",
    "from IPython.core.display import display, HTML\n",
    "display(HTML(\"<style>.container { width:100% !important; }</style>\"))"
   ]
  },
  {
   "cell_type": "markdown",
   "metadata": {},
   "source": [
    "# Create IDF file with all output variables requested and runs model\n",
    "\n",
    "File Name: PyEP_ALL_VARIABLES\n",
    "Author: Anjukan Kathirgamanathan\n",
    "Date: 26/08/2018\n",
    "\n",
    "This is a python script to create an IDF file that requests all possible output variables, runs it, and exports the data to a pandas dataframe."
   ]
  },
  {
   "cell_type": "markdown",
   "metadata": {},
   "source": [
    "## User Input"
   ]
  },
  {
   "cell_type": "code",
   "execution_count": 13,
   "metadata": {},
   "outputs": [],
   "source": [
    "# Specify the run period\n",
    "begin_month = 1\n",
    "begin_month_day = 1\n",
    "end_month = 12\n",
    "end_month_day = 31\n",
    "start_day = \"Sunday\"\n",
    "\n",
    "# Specify path to idd file\n",
    "iddfile = \"V8-7-0-Energy+.idd\"\n",
    "\n",
    "# Set the path to the original (REF) IDF file\n",
    "idf_path = \"RefBldgLargeOfficeNew2004_v1.4_7.2_4C_Ref.idf\"\n",
    "\n",
    "# Set the path to the .rdd file\n",
    "rdd_path = \"parametric/ref_TES/RefBldgLargeOfficeNew2004_v1.4_7.2_4C_Ref.rdd\"\n",
    "\n",
    "# Set the path to the file with the keep status of the variables (optional if some variables are to be omitted)\n",
    "keepfile = 'ALL_variables_request.csv'\n",
    "\n",
    "# Name of the new IDF created with all variables requested\n",
    "new_idf = \"RefBldgLargeOfficeNew2004_v1.4_7.2_4C_Ref_ALL.idf\"\n",
    "\n",
    "# Paths and file names for simulation run (weather file, output directory and prefix for output)\n",
    "weather_path = \"IRL_Dublin.039690_IWEC.epw\"\n",
    "out_path = \"ALL\"\n",
    "out_prefix = \"RefBldgLargeOfficeNew2004_v1.4_7.2_4C_Ref_ALL\""
   ]
  },
  {
   "cell_type": "markdown",
   "metadata": {},
   "source": [
    "\n",
    "### Load required libraries\n"
   ]
  },
  {
   "cell_type": "code",
   "execution_count": 14,
   "metadata": {},
   "outputs": [],
   "source": [
    "# Eppy (https://pypi.org/project/eppy/ by Santhosh Philip)\n",
    "from eppy import modeleditor \n",
    "from eppy.modeleditor import IDF\n",
    "\n",
    "import numpy\n",
    "\n",
    "import pandas as pd\n",
    "\n",
    "import glob\n",
    "import os\n",
    "import json"
   ]
  },
  {
   "cell_type": "markdown",
   "metadata": {},
   "source": [
    "## Read in files and variables\n",
    "\n",
    "eppy requires that we load the `.idd` from EnergyPlus and the `.idf` that we want to manipulate"
   ]
  },
  {
   "cell_type": "code",
   "execution_count": 15,
   "metadata": {},
   "outputs": [],
   "source": [
    "# Set the path to the idd file\n",
    "IDF.setiddname(iddfile)"
   ]
  },
  {
   "cell_type": "markdown",
   "metadata": {},
   "source": [
    "Let's load the IDF file where we want to make the changes and request all output variables. \n",
    "Let's also load the .rdd file from which we can obtain a list of all the output variables that can be requested."
   ]
  },
  {
   "cell_type": "code",
   "execution_count": 16,
   "metadata": {},
   "outputs": [
    {
     "name": "stdout",
     "output_type": "stream",
     "text": [
      "!!!!!!!!!!!!!!!!!!!!!!!!!!!!!!!!!!!!!!!!!!!!!!!!!!!!!!!!!!!!!!!!!!!!!!!!!!!!!!!!!!!!!!!\n",
      "['Site Outdoor Air Drybulb Temperature ', 'Site Outdoor Air Dewpoint Temperature ', 'Site Outdoor Air Wetbulb Temperature ', 'Site Outdoor Air Humidity Ratio ', 'Site Outdoor Air Relative Humidity ', 'Site Outdoor Air Barometric Pressure ', 'Site Wind Speed ', 'Site Wind Direction ', 'Site Sky Temperature ', 'Site Horizontal Infrared Radiation Rate per Area ', 'Site Diffuse Solar Radiation Rate per Area ', 'Site Direct Solar Radiation Rate per Area ', 'Site Precipitation Depth ', 'Site Ground Reflected Solar Radiation Rate per Area ', 'Site Ground Temperature ', 'Site Surface Ground Temperature ', 'Site Deep Ground Temperature ', 'Site Simple Factor Model Ground Temperature ', 'Site Outdoor Air Enthalpy ', 'Site Outdoor Air Density ', 'Site Solar Azimuth Angle ', 'Site Solar Altitude Angle ', 'Site Solar Hour Angle ', 'Site Rain Status ', 'Site Snow on Ground Status ', 'Site Exterior Horizontal Sky Illuminance ', 'Site Exterior Horizontal Beam Illuminance ', 'Site Exterior Beam Normal Illuminance ', 'Site Sky Diffuse Solar Radiation Luminous Efficacy ', 'Site Beam Solar Radiation Luminous Efficacy ', 'Site Daylighting Model Sky Clearness ', 'Site Daylighting Model Sky Brightness ', 'Site Daylight Saving Time Status ', 'Site Day Type Index ', 'Site Mains Water Temperature ', 'Zone Outdoor Air Drybulb Temperature ', 'Zone Outdoor Air Wetbulb Temperature ', 'Zone Outdoor Air Wind Speed ', 'Zone Total Internal Radiant Heating Energy ', 'Zone Total Internal Radiant Heating Rate ', 'Zone Total Internal Visible Radiation Heating Energy ', 'Zone Total Internal Visible Radiation Heating Rate ', 'Zone Total Internal Convective Heating Energy ', 'Zone Total Internal Convective Heating Rate ', 'Zone Total Internal Latent Gain Energy ', 'Zone Total Internal Latent Gain Rate ', 'Zone Total Internal Total Heating Energy ', 'Zone Total Internal Total Heating Rate ', 'People Occupant Count ', 'People Radiant Heating Energy ', 'People Radiant Heating Rate ', 'People Convective Heating Energy ', 'People Convective Heating Rate ', 'People Sensible Heating Energy ', 'People Sensible Heating Rate ', 'People Latent Gain Energy ', 'People Latent Gain Rate ', 'People Total Heating Energy ', 'People Total Heating Rate ', 'People Air Temperature ', 'People Air Relative Humidity ', 'Zone People Occupant Count ', 'Zone People Radiant Heating Energy ', 'Zone People Radiant Heating Rate ', 'Zone People Convective Heating Energy ', 'Zone People Convective Heating Rate ', 'Zone People Sensible Heating Energy ', 'Zone People Sensible Heating Rate ', 'Zone People Latent Gain Energy ', 'Zone People Latent Gain Rate ', 'Zone People Total Heating Energy ', 'Zone People Total Heating Rate ', 'Lights Electric Power ', 'Lights Radiant Heating Energy ', 'Lights Radiant Heating Rate ', 'Lights Visible Radiation Heating Energy ', 'Lights Visible Radiation Heating Rate ', 'Lights Convective Heating Energy ', 'Lights Convective Heating Rate ', 'Lights Return Air Heating Energy ', 'Lights Return Air Heating Rate ', 'Lights Total Heating Energy ', 'Lights Total Heating Rate ', 'Lights Electric Energy ', 'Zone Lights Electric Power ', 'Zone Lights Electric Energy ', 'Zone Lights Radiant Heating Energy ', 'Zone Lights Radiant Heating Rate ', 'Zone Lights Visible Radiation Heating Energy ', 'Zone Lights Visible Radiation Heating Rate ', 'Zone Lights Convective Heating Energy ', 'Zone Lights Convective Heating Rate ', 'Zone Lights Return Air Heating Energy ', 'Zone Lights Return Air Heating Rate ', 'Zone Lights Total Heating Energy ', 'Zone Lights Total Heating Rate ', 'Electric Equipment Electric Power ', 'Electric Equipment Electric Energy ', 'Electric Equipment Radiant Heating Energy ', 'Electric Equipment Radiant Heating Rate ', 'Electric Equipment Convective Heating Energy ', 'Electric Equipment Convective Heating Rate ', 'Electric Equipment Latent Gain Energy ', 'Electric Equipment Latent Gain Rate ', 'Electric Equipment Lost Heat Energy ', 'Electric Equipment Lost Heat Rate ', 'Electric Equipment Total Heating Energy ', 'Electric Equipment Total Heating Rate ', 'Zone Electric Equipment Electric Power ', 'Zone Electric Equipment Electric Energy ', 'Zone Electric Equipment Radiant Heating Energy ', 'Zone Electric Equipment Radiant Heating Rate ', 'Zone Electric Equipment Convective Heating Energy ', 'Zone Electric Equipment Convective Heating Rate ', 'Zone Electric Equipment Latent Gain Energy ', 'Zone Electric Equipment Latent Gain Rate ', 'Zone Electric Equipment Lost Heat Energy ', 'Zone Electric Equipment Lost Heat Rate ', 'Zone Electric Equipment Total Heating Energy ', 'Zone Electric Equipment Total Heating Rate ', 'Zone Windows Total Transmitted Solar Radiation Rate ', 'Zone Exterior Windows Total Transmitted Beam Solar Radiation Rate ', 'Zone Interior Windows Total Transmitted Beam Solar Radiation Rate ', 'Zone Exterior Windows Total Transmitted Diffuse Solar Radiation Rate ', 'Zone Interior Windows Total Transmitted Diffuse Solar Radiation Rate ', 'Zone Windows Total Heat Gain Rate ', 'Zone Windows Total Heat Loss Rate ', 'Zone Windows Total Transmitted Solar Radiation Energy ', 'Zone Exterior Windows Total Transmitted Beam Solar Radiation Energy ', 'Zone Interior Windows Total Transmitted Beam Solar Radiation Energy ', 'Zone Exterior Windows Total Transmitted Diffuse Solar Radiation Energy ', 'Zone Interior Windows Total Transmitted Diffuse Solar Radiation Energy ', 'Zone Windows Total Heat Gain Energy ', 'Zone Windows Total Heat Loss Energy ', 'Surface Outside Face Sunlit Area ', 'Surface Outside Face Sunlit Fraction ', 'Surface Outside Face Incident Solar Radiation Rate per Area ', 'Surface Outside Face Incident Beam Solar Radiation Rate per Area ', 'Surface Outside Face Incident Sky Diffuse Solar Radiation Rate per Area ', 'Surface Outside Face Incident Ground Diffuse Solar Radiation Rate per Area ', 'Surface Outside Face Beam Solar Incident Angle Cosine Value ', 'Surface Outside Face Incident Sky Diffuse Ground Reflected Solar Radiation Rate per Area ', 'Surface Outside Face Incident Sky Diffuse Surface Reflected Solar Radiation Rate per Area ', 'Surface Outside Face Incident Beam To Beam Surface Reflected Solar Radiation Rate per Area ', 'Surface Outside Face Incident Beam To Diffuse Surface Reflected Solar Radiation Rate per Area ', 'Surface Outside Face Incident Beam To Diffuse Ground Reflected Solar Radiation Rate per Area ', 'Surface Anisotropic Sky Multiplier ', 'Surface Window BSDF Beam Direction Number ', 'Surface Window BSDF Beam Theta Angle ', 'Surface Window BSDF Beam Phi Angle ', 'Surface Window Total Glazing Layers Absorbed Solar Radiation Rate ', 'Surface Window Total Glazing Layers Absorbed Shortwave Radiation Rate ', 'Surface Window Total Absorbed Shortwave Radiation Rate Layer 1 ', 'Surface Window Front Face Temperature Layer 1 ', 'Surface Window Back Face Temperature Layer 1 ', 'Surface Window Transmitted Solar Radiation Rate ', 'Surface Window Transmitted Beam Solar Radiation Rate ', 'Surface Window Transmitted Beam To Beam Solar Radiation Rate ', 'Surface Window Transmitted Beam To Diffuse Solar Radiation Rate ', 'Surface Window Transmitted Diffuse Solar Radiation Rate ', 'Surface Window Heat Gain Rate ', 'Surface Window Heat Loss Rate ', 'Surface Window Gap Convective Heat Transfer Rate ', 'Surface Window Shading Device Absorbed Solar Radiation Rate ', 'Surface Window Net Heat Transfer Rate ', 'Surface Window Total Glazing Layers Absorbed Solar Radiation Energy ', 'Surface Window Transmitted Solar Radiation Energy ', 'Surface Window Transmitted Beam Solar Radiation Energy ', 'Surface Window Transmitted Beam To Beam Solar Radiation Energy ', 'Surface Window Transmitted Beam To Diffuse Solar Radiation Energy ', 'Surface Window Transmitted Diffuse Solar Radiation Energy ', 'Surface Window Heat Gain Energy ', 'Surface Window Heat Loss Energy ', 'Surface Window Gap Convective Heat Transfer Energy ', 'Surface Window Shading Device Absorbed Solar Radiation Energy ', 'Surface Window Net Heat Transfer Energy ', 'Surface Window System Solar Transmittance ', 'Surface Window System Solar Reflectance ', 'Surface Window System Solar Absorptance ', 'Surface Window Inside Face Glazing Condensation Status ', 'Surface Window Inside Face Frame Condensation Status ', 'Surface Window Inside Face Divider Condensation Status ', 'Surface Window Outside Reveal Reflected Beam Solar Radiation Rate ', 'Surface Window Outside Reveal Reflected Beam Solar Radiation Energy ', 'Surface Window Solar Horizontal Profile Angle ', 'Surface Window Solar Vertical Profile Angle ', 'Surface Window Glazing Beam to Beam Solar Transmittance ', 'Surface Window Glazing Beam to Diffuse Solar Transmittance ', 'Surface Window Glazing Diffuse to Diffuse Solar Transmittance ', 'Surface Window Model Solver Iteration Count ', 'Surface Inside Face Exterior Windows Incident Beam Solar Radiation Rate per Area ', 'Surface Inside Face Exterior Windows Incident Beam Solar Radiation Rate ', 'Surface Inside Face Interior Windows Incident Beam Solar Radiation Rate per Area ', 'Surface Inside Face Interior Windows Incident Beam Solar Radiation Rate ', 'Surface Inside Face Initial Transmitted Diffuse Absorbed Solar Radiation Rate ', 'Surface Inside Face Initial Transmitted Diffuse Transmitted Out Window Solar Radiation Rate ', 'Surface Inside Face Absorbed Shortwave Radiation Rate ', 'Surface Inside Face Exterior Windows Incident Beam Solar Radiation Energy ', 'Surface Inside Face Interior Windows Incident Beam Solar Radiation Energy ', 'Debug Surface Solar Shading Model DifShdgRatioIsoSky ', 'Debug Surface Solar Shading Model DifShdgRatioHoriz ', 'Debug Surface Solar Shading Model WithShdgIsoSky ', 'Debug Surface Solar Shading Model WoShdgIsoSky ', 'Surface Inside Face Temperature ', 'Surface Outside Face Temperature ', 'Surface Inside Face Adjacent Air Temperature ', 'Surface Inside Face Convection Heat Transfer Coefficient ', 'Surface Inside Face Convection Heat Gain Rate ', 'Surface Inside Face Convection Heat Gain Rate per Area ', 'Surface Inside Face Convection Heat Gain Energy ', 'Surface Inside Face Net Surface Thermal Radiation Heat Gain Rate ', 'Surface Inside Face Net Surface Thermal Radiation Heat Gain Rate per Area ', 'Surface Inside Face Net Surface Thermal Radiation Heat Gain Energy ', 'Surface Inside Face Solar Radiation Heat Gain Rate ', 'Surface Inside Face Solar Radiation Heat Gain Rate per Area ', 'Surface Inside Face Solar Radiation Heat Gain Energy ', 'Surface Inside Face Lights Radiation Heat Gain Rate ', 'Surface Inside Face Lights Radiation Heat Gain Rate per Area ', 'Surface Inside Face Lights Radiation Heat Gain Energy ', 'Surface Inside Face Internal Gains Radiation Heat Gain Rate ', 'Surface Inside Face Internal Gains Radiation Heat Gain Rate per Area ', 'Surface Inside Face Internal Gains Radiation Heat Gain Energy ', 'Surface Inside Face System Radiation Heat Gain Rate ', 'Surface Inside Face System Radiation Heat Gain Rate per Area ', 'Surface Inside Face System Radiation Heat Gain Energy ', 'Surface Inside Face Conduction Heat Transfer Rate ', 'Surface Inside Face Conduction Heat Gain Rate ', 'Surface Inside Face Conduction Heat Loss Rate ', 'Surface Inside Face Conduction Heat Transfer Rate per Area ', 'Surface Inside Face Conduction Heat Transfer Energy ', 'Surface Outside Face Conduction Heat Transfer Rate ', 'Surface Outside Face Conduction Heat Gain Rate ', 'Surface Outside Face Conduction Heat Loss Rate ', 'Surface Outside Face Conduction Heat Transfer Rate per Area ', 'Surface Outside Face Conduction Heat Transfer Energy ', 'Surface Average Face Conduction Heat Transfer Rate ', 'Surface Average Face Conduction Heat Gain Rate ', 'Surface Average Face Conduction Heat Loss Rate ', 'Surface Average Face Conduction Heat Transfer Rate per Area ', 'Surface Average Face Conduction Heat Transfer Energy ', 'Surface Heat Storage Rate ', 'Surface Heat Storage Gain Rate ', 'Surface Heat Storage Loss Rate ', 'Surface Heat Storage Rate per Area ', 'Surface Heat Storage Energy ', 'Surface Inside Face Beam Solar Radiation Heat Gain Rate ', 'Surface Inside Face Convection Classification Index ', 'Surface Inside Face Convection Model Equation Index ', 'Surface Inside Face Convection Reference Air Index ', 'Surface Outside Face Outdoor Air Drybulb Temperature ', 'Surface Outside Face Outdoor Air Wetbulb Temperature ', 'Surface Outside Face Outdoor Air Wind Speed ', 'Surface Outside Face Convection Heat Gain Rate ', 'Surface Outside Face Convection Heat Gain Rate per Area ', 'Surface Outside Face Convection Heat Gain Energy ', 'Surface Outside Face Convection Heat Transfer Coefficient ', 'Surface Outside Face Net Thermal Radiation Heat Gain Rate ', 'Surface Outside Face Net Thermal Radiation Heat Gain Rate per Area ', 'Surface Outside Face Net Thermal Radiation Heat Gain Energy ', 'Surface Outside Face Thermal Radiation to Air Heat Transfer Coefficient ', 'Surface Outside Face Thermal Radiation to Sky Heat Transfer Coefficient ', 'Surface Outside Face Thermal Radiation to Ground Heat Transfer Coefficient ', 'Surface Outside Face Solar Radiation Heat Gain Rate ', 'Surface Outside Face Solar Radiation Heat Gain Rate per Area ', 'Surface Outside Face Solar Radiation Heat Gain Energy ', 'Surface Outside Face Convection Classification Index ', 'Surface Outside Face Forced Convection Model Equation Index ', 'Surface Outside Face Natural Convection Model Equation Index ', 'Surface Shading Device Is On Time Fraction ', 'Surface Storm Window On Off Status ', 'Surface Window Blind Slat Angle ', 'Zone Mean Radiant Temperature ', 'Water Heater Tank Temperature ', 'Water Heater Final Tank Temperature ', 'Water Heater Heat Loss Rate ', 'Water Heater Heat Loss Energy ', 'Water Heater Use Side Mass Flow Rate ', 'Water Heater Use Side Inlet Temperature ', 'Water Heater Use Side Outlet Temperature ', 'Water Heater Use Side Heat Transfer Rate ', 'Water Heater Use Side Heat Transfer Energy ', 'Water Heater Source Side Mass Flow Rate ', 'Water Heater Source Side Inlet Temperature ', 'Water Heater Source Side Outlet Temperature ', 'Water Heater Source Side Heat Transfer Rate ', 'Water Heater Source Side Heat Transfer Energy ', 'Water Heater Off Cycle Parasitic Tank Heat Transfer Rate ', 'Water Heater Off Cycle Parasitic Tank Heat Transfer Energy ', 'Water Heater On Cycle Parasitic Tank Heat Transfer Rate ', 'Water Heater On Cycle Parasitic Tank Heat Transfer Energy ', 'Water Heater Total Demand Heat Transfer Rate ', 'Water Heater Total Demand Heat Transfer Energy ', 'Water Heater Heating Rate ', 'Water Heater Heating Energy ', 'Water Heater Unmet Demand Heat Transfer Rate ', 'Water Heater Unmet Demand Heat Transfer Energy ', 'Water Heater Venting Heat Transfer Rate ', 'Water Heater Venting Heat Transfer Energy ', 'Water Heater Net Heat Transfer Rate ', 'Water Heater Net Heat Transfer Energy ', 'Water Heater Cycle On Count ', 'Water Heater Runtime Fraction ', 'Water Heater Part Load Ratio ', 'Water Heater Gas Rate ', 'Water Heater Gas Energy ', 'Water Heater Off Cycle Parasitic Gas Rate ', 'Water Heater Off Cycle Parasitic Gas Energy ', 'Water Heater On Cycle Parasitic Gas Rate ', 'Water Heater On Cycle Parasitic Gas Energy ', 'Water Heater Water Volume Flow Rate ', 'Water Heater Water Volume ', 'Water Heater Mains Water Volume ', 'Chilled Water Thermal Storage Tank Temperature ', 'Chilled Water Thermal Storage Final Tank Temperature ', 'Chilled Water Thermal Storage Tank Heat Gain Rate ', 'Chilled Water Thermal Storage Tank Heat Gain Energy ', 'Chilled Water Thermal Storage Use Side Mass Flow Rate ', 'Chilled Water Thermal Storage Use Side Inlet Temperature ', 'Chilled Water Thermal Storage Use Side Outlet Temperature ', 'Chilled Water Thermal Storage Use Side Heat Transfer Rate ', 'Chilled Water Thermal Storage Use Side Heat Transfer Energy ', 'Chilled Water Thermal Storage Source Side Mass Flow Rate ', 'Chilled Water Thermal Storage Source Side Inlet Temperature ', 'Chilled Water Thermal Storage Source Side Outlet Temperature ', 'Chilled Water Thermal Storage Source Side Heat Transfer Rate ', 'Chilled Water Thermal Storage Source Side Heat Transfer Energy ', 'Zone Mean Air Temperature ', 'Zone Operative Temperature ', 'Zone Mean Air Dewpoint Temperature ', 'Zone Mean Air Humidity Ratio ', 'Zone Air Heat Balance Internal Convective Heat Gain Rate ', 'Zone Air Heat Balance Surface Convection Rate ', 'Zone Air Heat Balance Interzone Air Transfer Rate ', 'Zone Air Heat Balance Outdoor Air Transfer Rate ', 'Zone Air Heat Balance System Air Transfer Rate ', 'Zone Air Heat Balance System Convective Heat Gain Rate ', 'Zone Air Heat Balance Air Energy Storage Rate ', 'Zone Infiltration Sensible Heat Loss Energy ', 'Zone Infiltration Sensible Heat Gain Energy ', 'Zone Infiltration Latent Heat Loss Energy ', 'Zone Infiltration Latent Heat Gain Energy ', 'Zone Infiltration Total Heat Loss Energy ', 'Zone Infiltration Total Heat Gain Energy ', 'Zone Infiltration Current Density Volume Flow Rate ', 'Zone Infiltration Standard Density Volume Flow Rate ', 'Zone Infiltration Current Density Volume ', 'Zone Infiltration Standard Density Volume ', 'Zone Infiltration Mass ', 'Zone Infiltration Mass Flow Rate ', 'Zone Infiltration Air Change Rate ', 'Erl Chiller Outlet Setpoint ', 'Cooling Setpoint ', 'Zone Air System Sensible Heating Energy ', 'Zone Air System Sensible Cooling Energy ', 'Zone Air System Sensible Heating Rate ', 'Zone Air System Sensible Cooling Rate ', 'Zone Air Temperature ', 'Zone Thermostat Air Temperature ', 'Zone Air Humidity Ratio ', 'Zone Air Relative Humidity ', 'Zone Predicted Sensible Load to Setpoint Heat Transfer Rate ', 'Zone Predicted Sensible Load to Heating Setpoint Heat Transfer Rate ', 'Zone Predicted Sensible Load to Cooling Setpoint Heat Transfer Rate ', 'Zone Predicted Moisture Load Moisture Transfer Rate ', 'Zone Predicted Moisture Load to Humidifying Setpoint Moisture Transfer Rate ', 'Zone Predicted Moisture Load to Dehumidifying Setpoint Moisture Transfer Rate ', 'Zone Thermostat Control Type ', 'Zone Thermostat Heating Setpoint Temperature ', 'Zone Thermostat Cooling Setpoint Temperature ', 'Zone Adaptive Comfort Operative Temperature Set Point ', 'Zone Predicted Sensible Load Room Air Correction Factor ', 'Zone Air CO2 Concentration ', 'Zone Air CO2 Predicted Load to Setpoint Mass Flow Rate ', 'Zone Air CO2 Setpoint Concentration ', 'Zone Air CO2 Internal Gain Volume Flow Rate ', 'HVAC System Solver Iteration Count ', 'Air System Solver Iteration Count ', 'Availability Manager Night Cycle Control Status ', 'Plant System Cycle On Off Status ', 'Plant Supply Side Cooling Demand Rate ', 'Plant Supply Side Heating Demand Rate ', 'Plant Supply Side Inlet Mass Flow Rate ', 'Plant Supply Side Inlet Temperature ', 'Plant Supply Side Outlet Temperature ', 'Plant Supply Side Not Distributed Demand Rate ', 'Plant Supply Side Unmet Demand Rate ', 'Debug Plant Loop Bypass Fraction ', 'Debug Plant Last Simulated Loop Side ', 'Plant Solver Sub Iteration Count ', 'Plant Solver Half Loop Calls Count ', 'Water Use Equipment Hot Water Mass Flow Rate ', 'Water Use Equipment Cold Water Mass Flow Rate ', 'Water Use Equipment Total Mass Flow Rate ', 'Water Use Equipment Hot Water Volume Flow Rate ', 'Water Use Equipment Cold Water Volume Flow Rate ', 'Water Use Equipment Total Volume Flow Rate ', 'Water Use Equipment Hot Water Volume ', 'Water Use Equipment Cold Water Volume ', 'Water Use Equipment Total Volume ', 'Water Use Equipment Mains Water Volume ', 'Water Use Equipment Hot Water Temperature ', 'Water Use Equipment Cold Water Temperature ', 'Water Use Equipment Target Water Temperature ', 'Water Use Equipment Mixed Water Temperature ', 'Water Use Equipment Drain Water Temperature ', 'Water Use Equipment Heating Rate ', 'Water Use Equipment Heating Energy ', 'Water Use Equipment Zone Sensible Heat Gain Rate ', 'Water Use Equipment Zone Sensible Heat Gain Energy ', 'Water Use Equipment Zone Latent Gain Rate ', 'Water Use Equipment Zone Latent Gain Energy ', 'Water Use Equipment Zone Moisture Gain Mass Flow Rate ', 'Water Use Equipment Zone Moisture Gain Mass ', 'Water Use Connections Hot Water Mass Flow Rate ', 'Water Use Connections Cold Water Mass Flow Rate ', 'Water Use Connections Total Mass Flow Rate ', 'Water Use Connections Drain Water Mass Flow Rate ', 'Water Use Connections Heat Recovery Mass Flow Rate ', 'Water Use Connections Hot Water Volume Flow Rate ', 'Water Use Connections Cold Water Volume Flow Rate ', 'Water Use Connections Total Volume Flow Rate ', 'Water Use Connections Hot Water Volume ', 'Water Use Connections Cold Water Volume ', 'Water Use Connections Total Volume ', 'Water Use Connections Hot Water Temperature ', 'Water Use Connections Cold Water Temperature ', 'Water Use Connections Drain Water Temperature ', 'Water Use Connections Return Water Temperature ', 'Water Use Connections Waste Water Temperature ', 'Water Use Connections Heat Recovery Water Temperature ', 'Water Use Connections Heat Recovery Effectiveness ', 'Water Use Connections Heat Recovery Rate ', 'Water Use Connections Heat Recovery Energy ', 'Water Use Connections Plant Hot Water Energy ', 'Generator Requested Electric Power ', 'Inverter DC to AC Efficiency ', 'Inverter DC Input Electric Power ', 'Inverter DC Input Electric Energy ', 'Inverter AC Output Electric Power ', 'Inverter AC Output Electric Energy ', 'Inverter Conversion Loss Power ', 'Inverter Conversion Loss Energy ', 'Inverter Conversion Loss Decrement Energy ', 'Inverter Thermal Loss Rate ', 'Inverter Thermal Loss Energy ', 'Inverter Ancillary AC Electric Power ', 'Inverter Ancillary AC Electric Energy ', 'Electric Storage Simple Charge State ', 'Electric Storage Charge Power ', 'Electric Storage Charge Energy ', 'Electric Storage Production Decrement Energy ', 'Electric Storage Discharge Power ', 'Electric Storage Discharge Energy ', 'Electric Storage Thermal Loss Rate ', 'Electric Storage Thermal Loss Energy ', 'Converter AC to DC Efficiency ', 'Converter AC Input Electric Power ', 'Converter AC Input Electric Energy ', 'Converter DC Output Electric Power ', 'Converter DC Output Electric Energy ', 'Converter Electric Loss Power ', 'Converter Electric Loss Energy ', 'Converter Electric Loss Decrement Energy ', 'Converter Thermal Loss Rate ', 'Converter Thermal Loss Energy ', 'Converter Ancillary AC Electric Power ', 'Converter Ancillary AC Electric Energy ', 'Electric Load Center Produced Electric Power ', 'Electric Load Center Produced Electric Energy ', 'Electric Load Center Supplied Electric Power ', 'Electric Load Center Drawn Electric Power ', 'Electric Load Center Produced Thermal Rate ', 'Electric Load Center Produced Thermal Energy ', 'Electric Load Center Requested Electric Power ', 'Facility Total Purchased Electric Power ', 'Facility Total Purchased Electric Energy ', 'Facility Total Surplus Electric Power ', 'Facility Total Surplus Electric Energy ', 'Facility Net Purchased Electric Power ', 'Facility Net Purchased Electric Energy ', 'Facility Total Building Electric Demand Power ', 'Facility Total HVAC Electric Demand Power ', 'Facility Total Electric Demand Power ', 'Facility Total Produced Electric Power ', 'Facility Total Produced Electric Energy ', 'Generator Produced DC Electric Power ', 'Generator Produced DC Electric Energy ', 'Generator PV Array Efficiency ', 'Zone Oscillating Temperatures Time ', 'Facility Any Zone Oscillating Temperatures Time ', 'Zone Thermal Comfort Fanger Model PMV ', 'Zone Thermal Comfort Fanger Model PPD ', 'Zone Thermal Comfort Clothing Surface Temperature ', 'Zone Thermal Comfort Mean Radiant Temperature ', 'Zone Thermal Comfort Operative Temperature ', 'Zone Thermal Comfort Clothing Value ', 'Zone Thermal Comfort ASHRAE 55 Simple Model Summer Clothes Not Comfortable Time ', 'Zone Thermal Comfort ASHRAE 55 Simple Model Winter Clothes Not Comfortable Time ', 'Zone Thermal Comfort ASHRAE 55 Simple Model Summer or Winter Clothes Not Comfortable Time ', 'Facility Thermal Comfort ASHRAE 55 Simple Model Summer Clothes Not Comfortable Time ', 'Facility Thermal Comfort ASHRAE 55 Simple Model Winter Clothes Not Comfortable Time ', 'Facility Thermal Comfort ASHRAE 55 Simple Model Summer or Winter Clothes Not Comfortable Time ', 'Zone Heating Setpoint Not Met Time ', 'Zone Heating Setpoint Not Met While Occupied Time ', 'Zone Cooling Setpoint Not Met Time ', 'Zone Cooling Setpoint Not Met While Occupied Time ', 'Facility Heating Setpoint Not Met Time ', 'Facility Cooling Setpoint Not Met Time ', 'Facility Heating Setpoint Not Met While Occupied Time ', 'Facility Cooling Setpoint Not Met While Occupied Time ', 'Schedule Value ', 'Zone Air Terminal Sensible Heating Energy ', 'Zone Air Terminal Sensible Cooling Energy ', 'Zone Air Terminal Sensible Heating Rate ', 'Zone Air Terminal Sensible Cooling Rate ', 'Heating Coil Heating Energy ', 'Heating Coil Source Side Heat Transfer Energy ', 'Heating Coil Heating Rate ', 'Heating Coil U Factor Times Area Value ', 'Cooling Coil Total Cooling Energy ', 'Cooling Coil Source Side Heat Transfer Energy ', 'Cooling Coil Sensible Cooling Energy ', 'Cooling Coil Total Cooling Rate ', 'Cooling Coil Sensible Cooling Rate ', 'Cooling Coil Wetted Area Fraction ', 'Zone Air Terminal VAV Damper Position ', 'Zone Air Terminal Minimum Air Flow Fraction ', 'Zone Air Terminal Outdoor Air Volume Flow Rate ', 'Air System Simulation Cycle On Off Status ', 'Fan Electric Power ', 'Fan Rise in Air Temperature ', 'Fan Heat Gain to Air ', 'Fan Electric Energy ', 'Fan Air Mass Flow Rate ', 'Exterior Lights Electric Power ', 'Exterior Lights Electric Energy ', 'Exterior Equipment Fuel Rate ', 'Exterior Equipment Electric Energy ', 'Air System Simulation Maximum Iteration Count ', 'Air System Simulation Iteration Count ', 'Air System Component Model Simulation Calls ', 'Air System Outdoor Air Economizer Status ', 'Air System Outdoor Air Heat Recovery Bypass Status ', 'Air System Outdoor Air Heat Recovery Bypass Heating Coil Activity Status ', 'Air System Outdoor Air Heat Recovery Bypass Minimum Outdoor Air Mixed Air Temperature ', 'Air System Outdoor Air High Humidity Control Status ', 'Air System Outdoor Air Flow Fraction ', 'Air System Outdoor Air Minimum Flow Fraction ', 'Air System Outdoor Air Mass Flow Rate ', 'Air System Mixed Air Mass Flow Rate ', 'Chiller Part Load Ratio ', 'Chiller Cycling Ratio ', 'Chiller Electric Power ', 'Chiller Electric Energy ', 'Chiller Evaporator Cooling Rate ', 'Chiller Evaporator Cooling Energy ', 'Chiller False Load Heat Transfer Rate ', 'Chiller False Load Heat Transfer Energy ', 'Chiller Evaporator Inlet Temperature ', 'Chiller Evaporator Outlet Temperature ', 'Chiller Evaporator Mass Flow Rate ', 'Chiller Condenser Heat Transfer Rate ', 'Chiller Condenser Heat Transfer Energy ', 'Chiller COP ', 'Chiller Capacity Temperature Modifier Multiplier ', 'Chiller EIR Temperature Modifier Multiplier ', 'Chiller EIR Part Load Modifier Multiplier ', 'Chiller Condenser Inlet Temperature ', 'Chiller Condenser Outlet Temperature ', 'Chiller Condenser Mass Flow Rate ', 'Boiler Heating Rate ', 'Boiler Heating Energy ', 'Boiler Gas Rate ', 'Boiler Gas Energy ', 'Boiler Inlet Temperature ', 'Boiler Outlet Temperature ', 'Boiler Mass Flow Rate ', 'Boiler Ancillary Electric Power ', 'Boiler Ancillary Electric Energy ', 'Boiler Part Load Ratio ', 'Cooling Tower Inlet Temperature ', 'Cooling Tower Outlet Temperature ', 'Cooling Tower Mass Flow Rate ', 'Cooling Tower Heat Transfer Rate ', 'Cooling Tower Fan Electric Power ', 'Cooling Tower Fan Electric Energy ', 'Cooling Tower Bypass Fraction ', 'Cooling Tower Operating Cells Count ', 'Cooling Tower Fan Cycling Ratio ', 'Cooling Tower Make Up Water Volume Flow Rate ', 'Cooling Tower Make Up Water Volume ', 'Cooling Tower Make Up Mains Water Volume ', 'Cooling Tower Water Evaporation Volume Flow Rate ', 'Cooling Tower Water Evaporation Volume ', 'Cooling Tower Water Drift Volume Flow Rate ', 'Cooling Tower Water Drift Volume ', 'Cooling Tower Water Blowdown Volume Flow Rate ', 'Cooling Tower Water Blowdown Volume ', 'Pump Electric Energy ', 'Pump Electric Power ', 'Pump Shaft Power ', 'Pump Fluid Heat Gain Rate ', 'Pump Fluid Heat Gain Energy ', 'Pump Outlet Temperature ', 'Pump Mass Flow Rate ', 'Performance Curve Input Variable 1 Value ', 'Performance Curve Input Variable 2 Value ', 'Performance Curve Output Value ', 'System Node Temperature ', 'System Node Mass Flow Rate ', 'System Node Humidity Ratio ', 'System Node Setpoint Temperature ', 'System Node Setpoint High Temperature ', 'System Node Setpoint Low Temperature ', 'System Node Setpoint Humidity Ratio ', 'System Node Setpoint Minimum Humidity Ratio ', 'System Node Setpoint Maximum Humidity Ratio ', 'System Node Relative Humidity ', 'System Node Pressure ', 'System Node Standard Density Volume Flow Rate ', 'System Node Current Density Volume Flow Rate ', 'System Node Current Density ', 'System Node Specific Heat ', 'System Node Enthalpy ', 'System Node Wetbulb Temperature ', 'System Node Dewpoint Temperature ', 'System Node Quality ', 'System Node Height ', 'System Node CO2 Concentration ', 'Environmental Impact Electricity Source Energy ', 'Environmental Impact Electricity CO2 Emissions Mass ', 'Environmental Impact Electricity CO Emissions Mass ', 'Environmental Impact Electricity CH4 Emissions Mass ', 'Environmental Impact Electricity NOx Emissions Mass ', 'Environmental Impact Electricity N2O Emissions Mass ', 'Environmental Impact Electricity SO2 Emissions Mass ', 'Environmental Impact Electricity PM Emissions Mass ', 'Environmental Impact Electricity PM10 Emissions Mass ', 'Environmental Impact Electricity PM2.5 Emissions Mass ', 'Environmental Impact Electricity NH3 Emissions Mass ', 'Environmental Impact Electricity NMVOC Emissions Mass ', 'Environmental Impact Electricity Hg Emissions Mass ', 'Environmental Impact Electricity Pb Emissions Mass ', 'Environmental Impact Electricity Water Consumption Volume ', 'Environmental Impact Electricity Nuclear High Level Waste Mass ', 'Environmental Impact Electricity Nuclear Low Level Waste Volume ', 'Environmental Impact Purchased Electricity Source Energy ', 'Environmental Impact Surplus Sold Electricity Source ', 'Environmental Impact Natural Gas Source Energy ', 'Environmental Impact Natural Gas CO2 Emissions Mass ', 'Environmental Impact Natural Gas CO Emissions Mass ', 'Environmental Impact Natural Gas CH4 Emissions Mass ', 'Environmental Impact Natural Gas NOx Emissions Mass ', 'Environmental Impact Natural Gas N2O Emissions Mass ', 'Environmental Impact Natural Gas SO2 Emissions Mass ', 'Environmental Impact Natural Gas PM Emissions Mass ', 'Environmental Impact Natural Gas PM10 Emissions Mass ', 'Environmental Impact Natural Gas PM2.5 Emissions Mass ', 'Environmental Impact Natural Gas NH3 Emissions Mass ', 'Environmental Impact Natural Gas NMVOC Emissions Mass ', 'Environmental Impact Natural Gas Hg Emissions Mass ', 'Environmental Impact Natural Gas Pb Emissions Mass ', 'Environmental Impact Natural Gas Water Consumption Volume ', 'Environmental Impact Natural Gas Nuclear High Level Waste Mass ', 'Environmental Impact Natural Gas Nuclear Low Level Waste Volume ', 'Environmental Impact Total N2O Emissions Carbon Equivalent Mass ', 'Environmental Impact Total CH4 Emissions Carbon Equivalent Mass ', 'Environmental Impact Total CO2 Emissions Carbon Equivalent Mass ', 'Air System Total Heating Energy ', 'Air System Total Cooling Energy ', 'Air System Hot Water Energy ', 'Air System Steam Energy ', 'Air System Chilled Water Energy ', 'Air System Electric Energy ', 'Air System Gas Energy ', 'Air System Water Volume ', 'Air System Fan Air Heating Energy ', 'Air System Cooling Coil Total Cooling Energy ', 'Air System Heating Coil Total Heating Energy ', 'Air System Heat Exchanger Total Heating Energy ', 'Air System Heat Exchanger Total Cooling Energy ', 'Air System Solar Collector Total Heating Energy ', 'Air System Solar Collector Total Cooling Energy ', 'Air System User Defined Air Terminal Total Heating Energy ', 'Air System User Defined Air Terminal Total Cooling Energy ', 'Air System Humidifier Total Heating Energy ', 'Air System Evaporative Cooler Total Cooling Energy ', 'Air System Desiccant Dehumidifier Total Cooling Energy ', 'Air System Fan Electric Energy ', 'Air System Heating Coil Hot Water Energy ', 'Air System Cooling Coil Chilled Water Energy ', 'Air System DX Heating Coil Electric Energy ', 'Air System DX Cooling Coil Electric Energy ', 'Air System Heating Coil Electric Energy ', 'Air System Heating Coil Gas Energy ', 'Air System Heating Coil Steam Energy ', 'Air System Humidifier Electric Energy ', 'Air System Humidifier Gas Energy ', 'Air System Evaporative Cooler Electric Energy ', 'Air System Desiccant Dehumidifier Electric Energy ', 'Zone Mechanical Ventilation No Load Heat Removal Energy ', 'Zone Mechanical Ventilation Cooling Load Increase Energy ', 'Zone Mechanical Ventilation Cooling Load Increase Due to Overheating Energy ', 'Zone Mechanical Ventilation Cooling Load Decrease Energy ', 'Zone Mechanical Ventilation No Load Heat Addition Energy ', 'Zone Mechanical Ventilation Heating Load Increase Energy ', 'Zone Mechanical Ventilation Heating Load Increase Due to Overcooling Energy ', 'Zone Mechanical Ventilation Heating Load Decrease Energy ', 'Zone Mechanical Ventilation Mass Flow Rate ', 'Zone Mechanical Ventilation Mass ', 'Zone Mechanical Ventilation Standard Density Volume Flow Rate ', 'Zone Mechanical Ventilation Standard Density Volume ', 'Zone Mechanical Ventilation Current Density Volume Flow Rate ', 'Zone Mechanical Ventilation Current Density Volume ', 'Zone Mechanical Ventilation Air Changes per Hour ']\n",
      "715\n"
     ]
    }
   ],
   "source": [
    "# Read the idf file\n",
    "ref1 = IDF(idf_path)\n",
    "\n",
    "# Open the .rdd file for all output variable names to be read in\n",
    "text_file = open(rdd_path, \"r\")\n",
    "# Split the lines such that commas and the '[' are used as delimiters\n",
    "import re\n",
    "lines = text_file.read()\n",
    "import_all = re.split(\"[[,\\!?:]\", lines)\n",
    "\n",
    "# Delete the first few strings from the prelog\n",
    "del import_all[0:10];\n",
    "print(\"!!!!!!!!!!!!!!!!!!!!!!!!!!!!!!!!!!!!!!!!!!!!!!!!!!!!!!!!!!!!!!!!!!!!!!!!!!!!!!!!!!!!!!!\")\n",
    "\n",
    "# Keep every 3rd element as this represents the output variable\n",
    "variables = import_all[0::3]\n",
    "print(variables)\n",
    "\n",
    "# See how many output variables there are in total\n",
    "total_variables = len(variables)\n",
    "print(total_variables)"
   ]
  },
  {
   "cell_type": "markdown",
   "metadata": {},
   "source": [
    "A first filtering is performed to remove non observable variables (and to decrease the size of the initial dataframe). The keep status of each variable is taken from the 'ALL_variables_request.csv' file."
   ]
  },
  {
   "cell_type": "code",
   "execution_count": 17,
   "metadata": {},
   "outputs": [
    {
     "name": "stdout",
     "output_type": "stream",
     "text": [
      "228\n"
     ]
    }
   ],
   "source": [
    "# Import in keep status of variables\n",
    "keep = pd.read_csv(keepfile)\n",
    "\n",
    "# Filter to be all the variables to remove\n",
    "keep = keep[keep.Keep != 1]\n",
    "sep = '['\n",
    "keep.Variable = keep.Variable.str.split('[').str[0]\n",
    "\n",
    "# Convert from a series to a list\n",
    "to_remove = keep.Variable.tolist()\n",
    "\n",
    "# Remove variables that are in the to_remove list\n",
    "variables = [item for item in variables if item not in to_remove]\n",
    "\n",
    "# See how many output variables there are in total\n",
    "total_variables = len(variables)\n",
    "print(total_variables)"
   ]
  },
  {
   "cell_type": "markdown",
   "metadata": {},
   "source": [
    "There are 284 variables in total after filtering. Let's see all of the existing `OUTPUT:VARIABLE` objects. We will have to delete the existing variables first to ensure no variables are repeated."
   ]
  },
  {
   "cell_type": "code",
   "execution_count": 18,
   "metadata": {},
   "outputs": [
    {
     "name": "stdout",
     "output_type": "stream",
     "text": [
      "[\n",
      "Output:Variable,\n",
      "    *,                        !- Key Value\n",
      "    Erl Chiller Outlet Setpoint,    !- Variable Name\n",
      "    Timestep;                 !- Reporting Frequency\n",
      ", \n",
      "Output:Variable,\n",
      "    *,                        !- Key Value\n",
      "    Plant Supply Side Cooling Demand Rate,    !- Variable Name\n",
      "    Timestep;                 !- Reporting Frequency\n",
      ", \n",
      "Output:Variable,\n",
      "    *,                        !- Key Value\n",
      "    Facility Thermal Comfort ASHRAE 55 Simple Model Summer Clothes Not Comfortable Time,    !- Variable Name\n",
      "    Timestep;                 !- Reporting Frequency\n",
      ", \n",
      "Output:Variable,\n",
      "    *,                        !- Key Value\n",
      "    Chilled Water Thermal Storage Tank Temperature,    !- Variable Name\n",
      "    Timestep;                 !- Reporting Frequency\n",
      ", \n",
      "Output:Variable,\n",
      "    *,                        !- Key Value\n",
      "    Chilled Water Thermal Storage Use Side Mass Flow Rate,    !- Variable Name\n",
      "    Timestep;                 !- Reporting Frequency\n",
      ", \n",
      "Output:Variable,\n",
      "    *,                        !- Key Value\n",
      "    Chilled Water Thermal Storage Use Side Outlet Temperature,    !- Variable Name\n",
      "    Timestep;                 !- Reporting Frequency\n",
      ", \n",
      "Output:Variable,\n",
      "    *,                        !- Key Value\n",
      "    Chilled Water Thermal Storage Source Side Mass Flow Rate,    !- Variable Name\n",
      "    Timestep;                 !- Reporting Frequency\n",
      ", \n",
      "Output:Variable,\n",
      "    *,                        !- Key Value\n",
      "    Chilled Water Thermal Storage Source Side Inlet Temperature,    !- Variable Name\n",
      "    Timestep;                 !- Reporting Frequency\n",
      ", \n",
      "Output:Variable,\n",
      "    *,                        !- Key Value\n",
      "    Zone Air CO2 Concentration,    !- Variable Name\n",
      "    Timestep;                 !- Reporting Frequency\n",
      ", \n",
      "Output:Variable,\n",
      "    *,                        !- Key Value\n",
      "    Zone Thermal Comfort Fanger Model PMV,    !- Variable Name\n",
      "    Timestep;                 !- Reporting Frequency\n",
      ", \n",
      "Output:Variable,\n",
      "    *,                        !- Key Value\n",
      "    Inverter Conversion Loss Power,    !- Variable Name\n",
      "    Timestep;                 !- Reporting Frequency\n",
      ", \n",
      "Output:Variable,\n",
      "    *,                        !- Key Value\n",
      "    Inverter Thermal Loss Rate,    !- Variable Name\n",
      "    Timestep;                 !- Reporting Frequency\n",
      ", \n",
      "Output:Variable,\n",
      "    *,                        !- Key Value\n",
      "    Converter Electric Loss Power,    !- Variable Name\n",
      "    Timestep;                 !- Reporting Frequency\n",
      ", \n",
      "Output:Variable,\n",
      "    *,                        !- Key Value\n",
      "    Generator Produced DC Electric Power,    !- Variable Name\n",
      "    Timestep;                 !- Reporting Frequency\n",
      ", \n",
      "Output:Variable,\n",
      "    *,                        !- Key Value\n",
      "    Facility Total Purchased Electric Power,    !- Variable Name\n",
      "    Timestep;                 !- Reporting Frequency\n",
      ", \n",
      "Output:Variable,\n",
      "    *,                        !- Key Value\n",
      "    Electric Storage Discharge Power,    !- Variable Name\n",
      "    Timestep;                 !- Reporting Frequency\n",
      ", \n",
      "Output:Variable,\n",
      "    *,                        !- Key Value\n",
      "    Electric Storage Charge Power,    !- Variable Name\n",
      "    Timestep;                 !- Reporting Frequency\n",
      ", \n",
      "Output:Variable,\n",
      "    *,                        !- Key Value\n",
      "    Electric Storage Simple Charge State,    !- Variable Name\n",
      "    Timestep;                 !- Reporting Frequency\n",
      ", \n",
      "Output:Variable,\n",
      "    *,                        !- Key Value\n",
      "    Chiller Electric Power,    !- Variable Name\n",
      "    Timestep;                 !- Reporting Frequency\n",
      ", \n",
      "Output:Variable,\n",
      "    *,                        !- Key Value\n",
      "    Water Heater Source Side Mass Flow Rate,    !- Variable Name\n",
      "    Timestep;                 !- Reporting Frequency\n",
      ", \n",
      "Output:Variable,\n",
      "    *,                        !- Key Value\n",
      "    Zone Thermostat Heating Setpoint Temperature,    !- Variable Name\n",
      "    Timestep;                 !- Reporting Frequency\n",
      ", \n",
      "Output:Variable,\n",
      "    *,                        !- Key Value\n",
      "    Zone Thermostat Cooling Setpoint Temperature,    !- Variable Name\n",
      "    Timestep;                 !- Reporting Frequency\n",
      ", \n",
      "Output:Variable,\n",
      "    *,                        !- Key Value\n",
      "    Plant Supply Side Inlet Mass Flow Rate,    !- Variable Name\n",
      "    Timestep;                 !- Reporting Frequency\n",
      ", \n",
      "Output:Variable,\n",
      "    *,                        !- Key Value\n",
      "    Chiller Condenser Mass Flow Rate,    !- Variable Name\n",
      "    Timestep;                 !- Reporting Frequency\n",
      ", \n",
      "Output:Variable,\n",
      "    *,                        !- Key Value\n",
      "    Pump Mass Flow Rate,      !- Variable Name\n",
      "    Timestep;                 !- Reporting Frequency\n",
      ", \n",
      "Output:Variable,\n",
      "    *,                        !- Key Value\n",
      "    Zone Air Temperature,     !- Variable Name\n",
      "    Timestep;                 !- Reporting Frequency\n",
      ", \n",
      "Output:Variable,\n",
      "    *,                        !- Key Value\n",
      "    Facility Total Electric Demand Power,    !- Variable Name\n",
      "    Timestep;                 !- Reporting Frequency\n",
      ", \n",
      "Output:Variable,\n",
      "    *,                        !- Key Value\n",
      "    Fan Air Mass Flow Rate,    !- Variable Name\n",
      "    Timestep;                 !- Reporting Frequency\n",
      ", \n",
      "Output:Variable,\n",
      "    *,                        !- Key Value\n",
      "    Boiler Mass Flow Rate,    !- Variable Name\n",
      "    Timestep;                 !- Reporting Frequency\n",
      ", \n",
      "Output:Variable,\n",
      "    *,                        !- Key Value\n",
      "    Site Outdoor Air Drybulb Temperature,    !- Variable Name\n",
      "    Timestep;                 !- Reporting Frequency\n",
      ", \n",
      "Output:Variable,\n",
      "    *,                        !- Key Value\n",
      "    Site Outdoor Air Relative Humidity,    !- Variable Name\n",
      "    Timestep;                 !- Reporting Frequency\n",
      ", \n",
      "Output:Variable,\n",
      "    *,                        !- Key Value\n",
      "    Site Wind Speed,          !- Variable Name\n",
      "    Timestep;                 !- Reporting Frequency\n",
      "]\n"
     ]
    }
   ],
   "source": [
    "# Clear any existing output variables requested\n",
    "output_variables = ref1.idfobjects['OUTPUT:VARIABLE']\n",
    "print(output_variables)\n",
    "\n",
    "output_variables.clear()"
   ]
  },
  {
   "cell_type": "markdown",
   "metadata": {},
   "source": [
    "We need to change the code for \"Output:Variable\" class to add objects\n",
    "\n",
    "### Add new objects in a loop"
   ]
  },
  {
   "cell_type": "code",
   "execution_count": 19,
   "metadata": {},
   "outputs": [],
   "source": [
    "# Set up a numpy array with the total number of variables\n",
    "variables_manual = numpy.linspace(0, total_variables-1, num=total_variables)\n",
    "\n",
    "# In a for loop, add all the output variables\n",
    "for i in variables_manual:\n",
    "    \n",
    "    # Add new object\n",
    "    ref1.newidfobject(\"OUTPUT:VARIABLE\")\n",
    "    output_variables[-1].Variable_Name = variables[int(i)]\n",
    "    output_variables[-1].Reporting_Frequency = \"Timestep\"\n",
    "    #print(output_variables)"
   ]
  },
  {
   "cell_type": "markdown",
   "metadata": {},
   "source": [
    "## Modify run period"
   ]
  },
  {
   "cell_type": "code",
   "execution_count": 20,
   "metadata": {},
   "outputs": [
    {
     "data": {
      "text/plain": [
       "[\n",
       "RunPeriod,\n",
       "    ,                         !- Name\n",
       "    1,                        !- Begin Month\n",
       "    1,                        !- Begin Day of Month\n",
       "    12,                       !- End Month\n",
       "    31,                       !- End Day of Month\n",
       "    Sunday,                   !- Day of Week for Start Day\n",
       "    No,                       !- Use Weather File Holidays and Special Days\n",
       "    No,                       !- Use Weather File Daylight Saving Period\n",
       "    No,                       !- Apply Weekend Holiday Rule\n",
       "    Yes,                      !- Use Weather File Rain Indicators\n",
       "    Yes,                      !- Use Weather File Snow Indicators\n",
       "    1.0000;                   !- Number of Times Runperiod to be Repeated\n",
       "]"
      ]
     },
     "execution_count": 20,
     "metadata": {},
     "output_type": "execute_result"
    }
   ],
   "source": [
    "# Make changes to the RunPeriod Object based on user input above\n",
    "ref1.idfobjects['RUNPERIOD']\n",
    "\n",
    "Run = ref1.idfobjects[\"RUNPERIOD\"][0]\n",
    "\n",
    "Run.Begin_Month = begin_month\n",
    "Run.Begin_Day_of_Month = begin_month_day\n",
    "Run.End_Month = end_month\n",
    "Run.End_Day_of_Month = end_month_day\n",
    "Run.Day_of_Week_for_Start_Day = start_day\n",
    "\n",
    "ref1.idfobjects['RUNPERIOD']"
   ]
  },
  {
   "cell_type": "markdown",
   "metadata": {},
   "source": [
    "### Save the new IDF file"
   ]
  },
  {
   "cell_type": "code",
   "execution_count": 21,
   "metadata": {},
   "outputs": [
    {
     "name": "stdout",
     "output_type": "stream",
     "text": [
      "Creating IDF file with 228 Output Variables\n"
     ]
    }
   ],
   "source": [
    "print(\"Creating IDF file with \"+ str(total_variables)+\" Output Variables\")\n",
    "\n",
    "# Save the IDF file\n",
    "ref1.saveas(new_idf)"
   ]
  },
  {
   "cell_type": "markdown",
   "metadata": {},
   "source": [
    "## Run the IDF file"
   ]
  },
  {
   "cell_type": "code",
   "execution_count": 22,
   "metadata": {},
   "outputs": [
    {
     "name": "stdout",
     "output_type": "stream",
     "text": [
      "ExpandObjects Started.\n",
      "No expanded file generated.\n",
      "ExpandObjects Finished. Time:     0.078\n",
      "EnergyPlus Starting\n",
      "EnergyPlus, Version 8.7.0-78a111df4a, YMD=2018.08.26 21:21\n",
      "Processing Data Dictionary\n",
      "Processing Input File\n",
      "Initializing Response Factors\n",
      "Calculating CTFs for \"MASS NON-RES EXT WALL\", Construction # 1\n",
      "Calculating CTFs for \"IEAD NON-RES ROOF\", Construction # 2\n",
      "Calculating CTFs for \"EXT-SLAB\", Construction # 3\n",
      "Calculating CTFs for \"INT-WALLS\", Construction # 4\n",
      "Calculating CTFs for \"INT-FLOOR-TOPSIDE\", Construction # 5\n",
      "Calculating CTFs for \"UNDERGROUND WALL NON-RES\", Construction # 7\n",
      "Calculating CTFs for \"DROPCEILING\", Construction # 9\n",
      "Calculating CTFs for \"INTERIORFURNISHINGS\", Construction # 11\n",
      "Initializing Window Optical Properties\n",
      "Initializing Solar Calculations\n",
      "Allocate Solar Module Arrays\n",
      "Initializing Zone Report Variables\n",
      "Initializing Surface (Shading) Report Variables\n",
      "Determining Shadowing Combinations\n",
      "Computing Window Shade Absorption Factors\n",
      "Proceeding with Initializing Solar Calculations\n",
      "Initializing Surfaces\n",
      "Initializing Outdoor environment for Surfaces\n",
      "Setting up Surface Reporting Variables\n",
      "Initializing Temperature and Flux Histories\n",
      "Initializing Window Shading\n",
      "Computing Interior Absorption Factors\n",
      "Computing Interior Diffuse Solar Absorption Factors\n",
      "Computing Interior Diffuse Solar Exchange through Interzone Windows\n",
      "Initializing Solar Heat Gains\n",
      "Initializing Internal Heat Gains\n",
      "Initializing Interior Solar Distribution\n",
      "Initializing Interior Convection Coefficients\n",
      "Gathering Information for Predefined Reporting\n",
      "Completed Initializing Surface Heat Balance\n",
      "Calculate Outside Surface Heat Balance\n",
      "Calculate Inside Surface Heat Balance\n",
      "Calculate Air Heat Balance\n",
      "Initializing HVAC\n",
      "Warming up\n",
      "Warming up\n",
      "Warming up\n",
      "Warming up\n",
      "Warming up\n",
      "Warming up\n",
      "Performing Zone Sizing Simulation\n",
      "...for Sizing Period: #1 SEATTLE ANN HTG 99.6% CONDNS DB\n",
      "Warming up\n",
      "Warming up\n",
      "Warming up\n",
      "Warming up\n",
      "Warming up\n",
      "Warming up\n",
      "Performing Zone Sizing Simulation\n",
      "...for Sizing Period: #2 SEATTLE ANN CLG .4% CONDNS WB=>MDB\n",
      "Calculating System sizing\n",
      "...for Sizing Period: #1 SEATTLE ANN HTG 99.6% CONDNS DB\n",
      "Calculating System sizing\n",
      "...for Sizing Period: #2 SEATTLE ANN CLG .4% CONDNS WB=>MDB\n",
      "Initializing Simulation\n",
      "Reporting Surfaces\n",
      "Beginning Primary Simulation\n",
      "Initializing New Environment Parameters\n",
      "Warming up {1}\n",
      "Warming up {2}\n",
      "Warming up {3}\n",
      "Warming up {4}\n",
      "Warming up {5}\n",
      "Warming up {6}\n",
      "Warming up {7}\n",
      "Warming up {8}\n",
      "Warming up {9}\n",
      "Warming up {10}\n",
      "Warming up {11}\n",
      "Warming up {12}\n",
      "Warming up {13}\n",
      "Warming up {14}\n",
      "Warming up {15}\n",
      "Starting Simulation at 01/01 for DUBLIN - IRL IWEC Data WMO#=039690\n",
      "Updating Shadowing Calculations, Start Date=01/08\n",
      "Continuing Simulation at 01/08 for DUBLIN - IRL IWEC Data WMO#=039690\n",
      "Updating Shadowing Calculations, Start Date=01/15\n",
      "Continuing Simulation at 01/15 for DUBLIN - IRL IWEC Data WMO#=039690\n",
      "Updating Shadowing Calculations, Start Date=01/22\n",
      "Continuing Simulation at 01/22 for DUBLIN - IRL IWEC Data WMO#=039690\n",
      "Updating Shadowing Calculations, Start Date=01/29\n",
      "Continuing Simulation at 01/29 for DUBLIN - IRL IWEC Data WMO#=039690\n",
      "Updating Shadowing Calculations, Start Date=02/05\n",
      "Continuing Simulation at 02/05 for DUBLIN - IRL IWEC Data WMO#=039690\n",
      "Updating Shadowing Calculations, Start Date=02/12\n",
      "Continuing Simulation at 02/12 for DUBLIN - IRL IWEC Data WMO#=039690\n",
      "Updating Shadowing Calculations, Start Date=02/19\n",
      "Continuing Simulation at 02/19 for DUBLIN - IRL IWEC Data WMO#=039690\n",
      "Updating Shadowing Calculations, Start Date=02/26\n",
      "Continuing Simulation at 02/26 for DUBLIN - IRL IWEC Data WMO#=039690\n",
      "Updating Shadowing Calculations, Start Date=03/05\n",
      "Continuing Simulation at 03/05 for DUBLIN - IRL IWEC Data WMO#=039690\n",
      "Updating Shadowing Calculations, Start Date=03/12\n",
      "Continuing Simulation at 03/12 for DUBLIN - IRL IWEC Data WMO#=039690\n",
      "Updating Shadowing Calculations, Start Date=03/19\n",
      "Continuing Simulation at 03/19 for DUBLIN - IRL IWEC Data WMO#=039690\n",
      "Updating Shadowing Calculations, Start Date=03/26\n",
      "Continuing Simulation at 03/26 for DUBLIN - IRL IWEC Data WMO#=039690\n",
      "Updating Shadowing Calculations, Start Date=04/02\n",
      "Continuing Simulation at 04/02 for DUBLIN - IRL IWEC Data WMO#=039690\n",
      "Updating Shadowing Calculations, Start Date=04/09\n",
      "Continuing Simulation at 04/09 for DUBLIN - IRL IWEC Data WMO#=039690\n",
      "Updating Shadowing Calculations, Start Date=04/16\n",
      "Continuing Simulation at 04/16 for DUBLIN - IRL IWEC Data WMO#=039690\n",
      "Updating Shadowing Calculations, Start Date=04/23\n",
      "Continuing Simulation at 04/23 for DUBLIN - IRL IWEC Data WMO#=039690\n",
      "Updating Shadowing Calculations, Start Date=04/30\n",
      "Continuing Simulation at 04/30 for DUBLIN - IRL IWEC Data WMO#=039690\n",
      "Updating Shadowing Calculations, Start Date=05/07\n",
      "Continuing Simulation at 05/07 for DUBLIN - IRL IWEC Data WMO#=039690\n",
      "Updating Shadowing Calculations, Start Date=05/14\n",
      "Continuing Simulation at 05/14 for DUBLIN - IRL IWEC Data WMO#=039690\n",
      "Updating Shadowing Calculations, Start Date=05/21\n",
      "Continuing Simulation at 05/21 for DUBLIN - IRL IWEC Data WMO#=039690\n",
      "Updating Shadowing Calculations, Start Date=05/28\n",
      "Continuing Simulation at 05/28 for DUBLIN - IRL IWEC Data WMO#=039690\n",
      "Updating Shadowing Calculations, Start Date=06/04\n",
      "Continuing Simulation at 06/04 for DUBLIN - IRL IWEC Data WMO#=039690\n",
      "Updating Shadowing Calculations, Start Date=06/11\n",
      "Continuing Simulation at 06/11 for DUBLIN - IRL IWEC Data WMO#=039690\n",
      "Updating Shadowing Calculations, Start Date=06/18\n",
      "Continuing Simulation at 06/18 for DUBLIN - IRL IWEC Data WMO#=039690\n",
      "Updating Shadowing Calculations, Start Date=06/25\n",
      "Continuing Simulation at 06/25 for DUBLIN - IRL IWEC Data WMO#=039690\n",
      "Updating Shadowing Calculations, Start Date=07/02\n",
      "Continuing Simulation at 07/02 for DUBLIN - IRL IWEC Data WMO#=039690\n",
      "Updating Shadowing Calculations, Start Date=07/09\n",
      "Continuing Simulation at 07/09 for DUBLIN - IRL IWEC Data WMO#=039690\n",
      "Updating Shadowing Calculations, Start Date=07/16\n",
      "Continuing Simulation at 07/16 for DUBLIN - IRL IWEC Data WMO#=039690\n",
      "Updating Shadowing Calculations, Start Date=07/23\n",
      "Continuing Simulation at 07/23 for DUBLIN - IRL IWEC Data WMO#=039690\n",
      "Updating Shadowing Calculations, Start Date=07/30\n",
      "Continuing Simulation at 07/30 for DUBLIN - IRL IWEC Data WMO#=039690\n",
      "Updating Shadowing Calculations, Start Date=08/06\n",
      "Continuing Simulation at 08/06 for DUBLIN - IRL IWEC Data WMO#=039690\n",
      "Updating Shadowing Calculations, Start Date=08/13\n",
      "Continuing Simulation at 08/13 for DUBLIN - IRL IWEC Data WMO#=039690\n",
      "Updating Shadowing Calculations, Start Date=08/20\n",
      "Continuing Simulation at 08/20 for DUBLIN - IRL IWEC Data WMO#=039690\n",
      "Updating Shadowing Calculations, Start Date=08/27\n",
      "Continuing Simulation at 08/27 for DUBLIN - IRL IWEC Data WMO#=039690\n",
      "Updating Shadowing Calculations, Start Date=09/03\n",
      "Continuing Simulation at 09/03 for DUBLIN - IRL IWEC Data WMO#=039690\n",
      "Updating Shadowing Calculations, Start Date=09/10\n",
      "Continuing Simulation at 09/10 for DUBLIN - IRL IWEC Data WMO#=039690\n",
      "Updating Shadowing Calculations, Start Date=09/17\n",
      "Continuing Simulation at 09/17 for DUBLIN - IRL IWEC Data WMO#=039690\n",
      "Updating Shadowing Calculations, Start Date=09/24\n",
      "Continuing Simulation at 09/24 for DUBLIN - IRL IWEC Data WMO#=039690\n",
      "Updating Shadowing Calculations, Start Date=10/01\n",
      "Continuing Simulation at 10/01 for DUBLIN - IRL IWEC Data WMO#=039690\n",
      "Updating Shadowing Calculations, Start Date=10/08\n",
      "Continuing Simulation at 10/08 for DUBLIN - IRL IWEC Data WMO#=039690\n",
      "Updating Shadowing Calculations, Start Date=10/15\n",
      "Continuing Simulation at 10/15 for DUBLIN - IRL IWEC Data WMO#=039690\n",
      "Updating Shadowing Calculations, Start Date=10/22\n",
      "Continuing Simulation at 10/22 for DUBLIN - IRL IWEC Data WMO#=039690\n",
      "Updating Shadowing Calculations, Start Date=10/29\n",
      "Continuing Simulation at 10/29 for DUBLIN - IRL IWEC Data WMO#=039690\n",
      "Updating Shadowing Calculations, Start Date=11/05\n",
      "Continuing Simulation at 11/05 for DUBLIN - IRL IWEC Data WMO#=039690\n",
      "Updating Shadowing Calculations, Start Date=11/12\n",
      "Continuing Simulation at 11/12 for DUBLIN - IRL IWEC Data WMO#=039690\n",
      "Updating Shadowing Calculations, Start Date=11/19\n",
      "Continuing Simulation at 11/19 for DUBLIN - IRL IWEC Data WMO#=039690\n",
      "Updating Shadowing Calculations, Start Date=11/26\n",
      "Continuing Simulation at 11/26 for DUBLIN - IRL IWEC Data WMO#=039690\n",
      "Updating Shadowing Calculations, Start Date=12/03\n",
      "Continuing Simulation at 12/03 for DUBLIN - IRL IWEC Data WMO#=039690\n",
      "Updating Shadowing Calculations, Start Date=12/10\n",
      "Continuing Simulation at 12/10 for DUBLIN - IRL IWEC Data WMO#=039690\n",
      "Updating Shadowing Calculations, Start Date=12/17\n",
      "Continuing Simulation at 12/17 for DUBLIN - IRL IWEC Data WMO#=039690\n",
      "Updating Shadowing Calculations, Start Date=12/24\n",
      "Continuing Simulation at 12/24 for DUBLIN - IRL IWEC Data WMO#=039690\n",
      "Updating Shadowing Calculations, Start Date=12/31\n",
      "Writing tabular output file results using HTML format.\n",
      "Writing Tariff Reports\n",
      "Writing final SQL reports\n",
      " ReadVarsESO program starting.\n",
      " potentially too many variables requested.  program may crash.\n",
      "  number requested=        4783\n",
      "  program has been tested through max=3500\n",
      " ReadVars Run Time=00hr 11min 34.31sec\n",
      " ReadVarsESO program completed successfully.\n",
      " ReadVarsESO program starting.\n",
      " ReadVars Run Time=00hr 00min  2.70sec\n",
      " ReadVarsESO program completed successfully.\n",
      "EnergyPlus Run Time=00hr 16min 54.62sec\n"
     ]
    },
    {
     "name": "stderr",
     "output_type": "stream",
     "text": [
      "EnergyPlus Completed Successfully.\n"
     ]
    }
   ],
   "source": [
    "# We first need to define the file locations\n",
    "# Note we are using V8.70 EP+\n",
    "ep_cmd = \"C:\\EnergyPlusV8-7-0\\energyplus -x -r -i \" + iddfile + \" -w \" + weather_path + \" -d \" + out_path + \" -p \" + out_prefix + \" -s C \" + new_idf\n",
    "ep_cmd\n",
    "\n",
    "# now we use ! to call command lines in IPython\n",
    "# this may take a while\n",
    "# if simulation is successful, you will see a bunch of command line outputs from EnergyPlus\n",
    "!$ep_cmd"
   ]
  }
 ],
 "metadata": {
  "hide_input": false,
  "kernelspec": {
   "display_name": "Python 3",
   "language": "python",
   "name": "python3"
  },
  "language_info": {
   "codemirror_mode": {
    "name": "ipython",
    "version": 3
   },
   "file_extension": ".py",
   "mimetype": "text/x-python",
   "name": "python",
   "nbconvert_exporter": "python",
   "pygments_lexer": "ipython3",
   "version": "3.6.3"
  }
 },
 "nbformat": 4,
 "nbformat_minor": 1
}
